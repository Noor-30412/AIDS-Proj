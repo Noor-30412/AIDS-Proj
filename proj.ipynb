{
 "cells": [
  {
   "cell_type": "code",
   "execution_count": 1,
   "id": "49bc15f2",
   "metadata": {},
   "outputs": [],
   "source": [
    "import pandas as pd\n",
    "import numpy as np\n",
    "import seaborn as sns\n",
    "import matplotlib.pyplot as plt\n",
    "%matplotlib inline"
   ]
  },
  {
   "cell_type": "code",
   "execution_count": 6,
   "id": "af02646f",
   "metadata": {},
   "outputs": [],
   "source": [
    "consumption = pd.read_csv('long_data_.csv')"
   ]
  },
  {
   "cell_type": "code",
   "execution_count": 7,
   "id": "e059ab95",
   "metadata": {},
   "outputs": [
    {
     "data": {
      "text/html": [
       "<div>\n",
       "<style scoped>\n",
       "    .dataframe tbody tr th:only-of-type {\n",
       "        vertical-align: middle;\n",
       "    }\n",
       "\n",
       "    .dataframe tbody tr th {\n",
       "        vertical-align: top;\n",
       "    }\n",
       "\n",
       "    .dataframe thead th {\n",
       "        text-align: right;\n",
       "    }\n",
       "</style>\n",
       "<table border=\"1\" class=\"dataframe\">\n",
       "  <thead>\n",
       "    <tr style=\"text-align: right;\">\n",
       "      <th></th>\n",
       "      <th>States</th>\n",
       "      <th>Regions</th>\n",
       "      <th>latitude</th>\n",
       "      <th>longitude</th>\n",
       "      <th>Dates</th>\n",
       "      <th>Usage</th>\n",
       "    </tr>\n",
       "  </thead>\n",
       "  <tbody>\n",
       "    <tr>\n",
       "      <th>0</th>\n",
       "      <td>Punjab</td>\n",
       "      <td>NR</td>\n",
       "      <td>31.519974</td>\n",
       "      <td>75.980003</td>\n",
       "      <td>02/01/2019 00:00:00</td>\n",
       "      <td>119.9</td>\n",
       "    </tr>\n",
       "    <tr>\n",
       "      <th>1</th>\n",
       "      <td>Haryana</td>\n",
       "      <td>NR</td>\n",
       "      <td>28.450006</td>\n",
       "      <td>77.019991</td>\n",
       "      <td>02/01/2019 00:00:00</td>\n",
       "      <td>130.3</td>\n",
       "    </tr>\n",
       "    <tr>\n",
       "      <th>2</th>\n",
       "      <td>Rajasthan</td>\n",
       "      <td>NR</td>\n",
       "      <td>26.449999</td>\n",
       "      <td>74.639981</td>\n",
       "      <td>02/01/2019 00:00:00</td>\n",
       "      <td>234.1</td>\n",
       "    </tr>\n",
       "    <tr>\n",
       "      <th>3</th>\n",
       "      <td>Delhi</td>\n",
       "      <td>NR</td>\n",
       "      <td>28.669993</td>\n",
       "      <td>77.230004</td>\n",
       "      <td>02/01/2019 00:00:00</td>\n",
       "      <td>85.8</td>\n",
       "    </tr>\n",
       "    <tr>\n",
       "      <th>4</th>\n",
       "      <td>UP</td>\n",
       "      <td>NR</td>\n",
       "      <td>27.599981</td>\n",
       "      <td>78.050006</td>\n",
       "      <td>02/01/2019 00:00:00</td>\n",
       "      <td>313.9</td>\n",
       "    </tr>\n",
       "    <tr>\n",
       "      <th>...</th>\n",
       "      <td>...</td>\n",
       "      <td>...</td>\n",
       "      <td>...</td>\n",
       "      <td>...</td>\n",
       "      <td>...</td>\n",
       "      <td>...</td>\n",
       "    </tr>\n",
       "    <tr>\n",
       "      <th>16594</th>\n",
       "      <td>Manipur</td>\n",
       "      <td>NER</td>\n",
       "      <td>24.799971</td>\n",
       "      <td>93.950017</td>\n",
       "      <td>05/12/2020 00:00:00</td>\n",
       "      <td>2.5</td>\n",
       "    </tr>\n",
       "    <tr>\n",
       "      <th>16595</th>\n",
       "      <td>Meghalaya</td>\n",
       "      <td>NER</td>\n",
       "      <td>25.570492</td>\n",
       "      <td>91.880014</td>\n",
       "      <td>05/12/2020 00:00:00</td>\n",
       "      <td>5.8</td>\n",
       "    </tr>\n",
       "    <tr>\n",
       "      <th>16596</th>\n",
       "      <td>Mizoram</td>\n",
       "      <td>NER</td>\n",
       "      <td>23.710399</td>\n",
       "      <td>92.720015</td>\n",
       "      <td>05/12/2020 00:00:00</td>\n",
       "      <td>1.6</td>\n",
       "    </tr>\n",
       "    <tr>\n",
       "      <th>16597</th>\n",
       "      <td>Nagaland</td>\n",
       "      <td>NER</td>\n",
       "      <td>25.666998</td>\n",
       "      <td>94.116570</td>\n",
       "      <td>05/12/2020 00:00:00</td>\n",
       "      <td>2.1</td>\n",
       "    </tr>\n",
       "    <tr>\n",
       "      <th>16598</th>\n",
       "      <td>Tripura</td>\n",
       "      <td>NER</td>\n",
       "      <td>23.835404</td>\n",
       "      <td>91.279999</td>\n",
       "      <td>05/12/2020 00:00:00</td>\n",
       "      <td>3.3</td>\n",
       "    </tr>\n",
       "  </tbody>\n",
       "</table>\n",
       "<p>16599 rows × 6 columns</p>\n",
       "</div>"
      ],
      "text/plain": [
       "          States Regions   latitude  longitude                Dates  Usage\n",
       "0         Punjab      NR  31.519974  75.980003  02/01/2019 00:00:00  119.9\n",
       "1        Haryana      NR  28.450006  77.019991  02/01/2019 00:00:00  130.3\n",
       "2      Rajasthan      NR  26.449999  74.639981  02/01/2019 00:00:00  234.1\n",
       "3          Delhi      NR  28.669993  77.230004  02/01/2019 00:00:00   85.8\n",
       "4             UP      NR  27.599981  78.050006  02/01/2019 00:00:00  313.9\n",
       "...          ...     ...        ...        ...                  ...    ...\n",
       "16594    Manipur     NER  24.799971  93.950017  05/12/2020 00:00:00    2.5\n",
       "16595  Meghalaya     NER  25.570492  91.880014  05/12/2020 00:00:00    5.8\n",
       "16596    Mizoram     NER  23.710399  92.720015  05/12/2020 00:00:00    1.6\n",
       "16597   Nagaland     NER  25.666998  94.116570  05/12/2020 00:00:00    2.1\n",
       "16598    Tripura     NER  23.835404  91.279999  05/12/2020 00:00:00    3.3\n",
       "\n",
       "[16599 rows x 6 columns]"
      ]
     },
     "execution_count": 7,
     "metadata": {},
     "output_type": "execute_result"
    }
   ],
   "source": [
    "consumption"
   ]
  },
  {
   "cell_type": "code",
   "execution_count": 8,
   "id": "ba23831c",
   "metadata": {},
   "outputs": [
    {
     "data": {
      "text/html": [
       "<div>\n",
       "<style scoped>\n",
       "    .dataframe tbody tr th:only-of-type {\n",
       "        vertical-align: middle;\n",
       "    }\n",
       "\n",
       "    .dataframe tbody tr th {\n",
       "        vertical-align: top;\n",
       "    }\n",
       "\n",
       "    .dataframe thead th {\n",
       "        text-align: right;\n",
       "    }\n",
       "</style>\n",
       "<table border=\"1\" class=\"dataframe\">\n",
       "  <thead>\n",
       "    <tr style=\"text-align: right;\">\n",
       "      <th></th>\n",
       "      <th>States</th>\n",
       "      <th>Regions</th>\n",
       "      <th>latitude</th>\n",
       "      <th>longitude</th>\n",
       "      <th>Dates</th>\n",
       "      <th>Usage</th>\n",
       "    </tr>\n",
       "  </thead>\n",
       "  <tbody>\n",
       "    <tr>\n",
       "      <th>0</th>\n",
       "      <td>Punjab</td>\n",
       "      <td>NR</td>\n",
       "      <td>31.519974</td>\n",
       "      <td>75.980003</td>\n",
       "      <td>02/01/2019 00:00:00</td>\n",
       "      <td>119.9</td>\n",
       "    </tr>\n",
       "    <tr>\n",
       "      <th>1</th>\n",
       "      <td>Haryana</td>\n",
       "      <td>NR</td>\n",
       "      <td>28.450006</td>\n",
       "      <td>77.019991</td>\n",
       "      <td>02/01/2019 00:00:00</td>\n",
       "      <td>130.3</td>\n",
       "    </tr>\n",
       "    <tr>\n",
       "      <th>2</th>\n",
       "      <td>Rajasthan</td>\n",
       "      <td>NR</td>\n",
       "      <td>26.449999</td>\n",
       "      <td>74.639981</td>\n",
       "      <td>02/01/2019 00:00:00</td>\n",
       "      <td>234.1</td>\n",
       "    </tr>\n",
       "    <tr>\n",
       "      <th>3</th>\n",
       "      <td>Delhi</td>\n",
       "      <td>NR</td>\n",
       "      <td>28.669993</td>\n",
       "      <td>77.230004</td>\n",
       "      <td>02/01/2019 00:00:00</td>\n",
       "      <td>85.8</td>\n",
       "    </tr>\n",
       "    <tr>\n",
       "      <th>4</th>\n",
       "      <td>UP</td>\n",
       "      <td>NR</td>\n",
       "      <td>27.599981</td>\n",
       "      <td>78.050006</td>\n",
       "      <td>02/01/2019 00:00:00</td>\n",
       "      <td>313.9</td>\n",
       "    </tr>\n",
       "  </tbody>\n",
       "</table>\n",
       "</div>"
      ],
      "text/plain": [
       "      States Regions   latitude  longitude                Dates  Usage\n",
       "0     Punjab      NR  31.519974  75.980003  02/01/2019 00:00:00  119.9\n",
       "1    Haryana      NR  28.450006  77.019991  02/01/2019 00:00:00  130.3\n",
       "2  Rajasthan      NR  26.449999  74.639981  02/01/2019 00:00:00  234.1\n",
       "3      Delhi      NR  28.669993  77.230004  02/01/2019 00:00:00   85.8\n",
       "4         UP      NR  27.599981  78.050006  02/01/2019 00:00:00  313.9"
      ]
     },
     "execution_count": 8,
     "metadata": {},
     "output_type": "execute_result"
    }
   ],
   "source": [
    "consumption.head()"
   ]
  },
  {
   "cell_type": "code",
   "execution_count": 9,
   "id": "e3ea0078",
   "metadata": {},
   "outputs": [
    {
     "data": {
      "text/plain": [
       "(16599, 6)"
      ]
     },
     "execution_count": 9,
     "metadata": {},
     "output_type": "execute_result"
    }
   ],
   "source": [
    "consumption.shape"
   ]
  },
  {
   "cell_type": "code",
   "execution_count": 11,
   "id": "31fca3f8",
   "metadata": {},
   "outputs": [
    {
     "data": {
      "text/plain": [
       "Index(['States', 'Regions', 'latitude', 'longitude', 'Dates', 'Usage'], dtype='object')"
      ]
     },
     "execution_count": 11,
     "metadata": {},
     "output_type": "execute_result"
    }
   ],
   "source": [
    "consumption.columns"
   ]
  },
  {
   "cell_type": "code",
   "execution_count": 12,
   "id": "d0c49d95",
   "metadata": {},
   "outputs": [
    {
     "data": {
      "text/plain": [
       "States        object\n",
       "Regions       object\n",
       "latitude     float64\n",
       "longitude    float64\n",
       "Dates         object\n",
       "Usage        float64\n",
       "dtype: object"
      ]
     },
     "execution_count": 12,
     "metadata": {},
     "output_type": "execute_result"
    }
   ],
   "source": [
    "consumption.dtypes"
   ]
  },
  {
   "cell_type": "code",
   "execution_count": 15,
   "id": "34a2f58f",
   "metadata": {},
   "outputs": [],
   "source": [
    "consumption['Dates']=pd.to_datetime(consumption['Dates'])"
   ]
  },
  {
   "cell_type": "code",
   "execution_count": 16,
   "id": "ae6c1826",
   "metadata": {},
   "outputs": [
    {
     "data": {
      "text/plain": [
       "0       2019-02-01\n",
       "1       2019-02-01\n",
       "2       2019-02-01\n",
       "3       2019-02-01\n",
       "4       2019-02-01\n",
       "           ...    \n",
       "16594   2020-05-12\n",
       "16595   2020-05-12\n",
       "16596   2020-05-12\n",
       "16597   2020-05-12\n",
       "16598   2020-05-12\n",
       "Name: Dates, Length: 16599, dtype: datetime64[ns]"
      ]
     },
     "execution_count": 16,
     "metadata": {},
     "output_type": "execute_result"
    }
   ],
   "source": [
    "consumption['Dates']"
   ]
  },
  {
   "cell_type": "code",
   "execution_count": 17,
   "id": "cd524e40",
   "metadata": {},
   "outputs": [],
   "source": [
    "consumption.set_index('Dates',inplace=True)"
   ]
  },
  {
   "cell_type": "code",
   "execution_count": 18,
   "id": "f3378ae7",
   "metadata": {},
   "outputs": [
    {
     "data": {
      "text/html": [
       "<div>\n",
       "<style scoped>\n",
       "    .dataframe tbody tr th:only-of-type {\n",
       "        vertical-align: middle;\n",
       "    }\n",
       "\n",
       "    .dataframe tbody tr th {\n",
       "        vertical-align: top;\n",
       "    }\n",
       "\n",
       "    .dataframe thead th {\n",
       "        text-align: right;\n",
       "    }\n",
       "</style>\n",
       "<table border=\"1\" class=\"dataframe\">\n",
       "  <thead>\n",
       "    <tr style=\"text-align: right;\">\n",
       "      <th></th>\n",
       "      <th>States</th>\n",
       "      <th>Regions</th>\n",
       "      <th>latitude</th>\n",
       "      <th>longitude</th>\n",
       "      <th>Usage</th>\n",
       "    </tr>\n",
       "    <tr>\n",
       "      <th>Dates</th>\n",
       "      <th></th>\n",
       "      <th></th>\n",
       "      <th></th>\n",
       "      <th></th>\n",
       "      <th></th>\n",
       "    </tr>\n",
       "  </thead>\n",
       "  <tbody>\n",
       "    <tr>\n",
       "      <th>2019-02-01</th>\n",
       "      <td>Punjab</td>\n",
       "      <td>NR</td>\n",
       "      <td>31.519974</td>\n",
       "      <td>75.980003</td>\n",
       "      <td>119.9</td>\n",
       "    </tr>\n",
       "    <tr>\n",
       "      <th>2019-02-01</th>\n",
       "      <td>Haryana</td>\n",
       "      <td>NR</td>\n",
       "      <td>28.450006</td>\n",
       "      <td>77.019991</td>\n",
       "      <td>130.3</td>\n",
       "    </tr>\n",
       "    <tr>\n",
       "      <th>2019-02-01</th>\n",
       "      <td>Rajasthan</td>\n",
       "      <td>NR</td>\n",
       "      <td>26.449999</td>\n",
       "      <td>74.639981</td>\n",
       "      <td>234.1</td>\n",
       "    </tr>\n",
       "    <tr>\n",
       "      <th>2019-02-01</th>\n",
       "      <td>Delhi</td>\n",
       "      <td>NR</td>\n",
       "      <td>28.669993</td>\n",
       "      <td>77.230004</td>\n",
       "      <td>85.8</td>\n",
       "    </tr>\n",
       "    <tr>\n",
       "      <th>2019-02-01</th>\n",
       "      <td>UP</td>\n",
       "      <td>NR</td>\n",
       "      <td>27.599981</td>\n",
       "      <td>78.050006</td>\n",
       "      <td>313.9</td>\n",
       "    </tr>\n",
       "  </tbody>\n",
       "</table>\n",
       "</div>"
      ],
      "text/plain": [
       "               States Regions   latitude  longitude  Usage\n",
       "Dates                                                     \n",
       "2019-02-01     Punjab      NR  31.519974  75.980003  119.9\n",
       "2019-02-01    Haryana      NR  28.450006  77.019991  130.3\n",
       "2019-02-01  Rajasthan      NR  26.449999  74.639981  234.1\n",
       "2019-02-01      Delhi      NR  28.669993  77.230004   85.8\n",
       "2019-02-01         UP      NR  27.599981  78.050006  313.9"
      ]
     },
     "execution_count": 18,
     "metadata": {},
     "output_type": "execute_result"
    }
   ],
   "source": [
    "consumption.head()"
   ]
  },
  {
   "cell_type": "code",
   "execution_count": 19,
   "id": "39c4e775",
   "metadata": {},
   "outputs": [
    {
     "data": {
      "text/html": [
       "<div>\n",
       "<style scoped>\n",
       "    .dataframe tbody tr th:only-of-type {\n",
       "        vertical-align: middle;\n",
       "    }\n",
       "\n",
       "    .dataframe tbody tr th {\n",
       "        vertical-align: top;\n",
       "    }\n",
       "\n",
       "    .dataframe thead th {\n",
       "        text-align: right;\n",
       "    }\n",
       "</style>\n",
       "<table border=\"1\" class=\"dataframe\">\n",
       "  <thead>\n",
       "    <tr style=\"text-align: right;\">\n",
       "      <th></th>\n",
       "      <th>latitude</th>\n",
       "      <th>longitude</th>\n",
       "      <th>Usage</th>\n",
       "    </tr>\n",
       "  </thead>\n",
       "  <tbody>\n",
       "    <tr>\n",
       "      <th>count</th>\n",
       "      <td>16599.000000</td>\n",
       "      <td>16599.000000</td>\n",
       "      <td>16599.000000</td>\n",
       "    </tr>\n",
       "    <tr>\n",
       "      <th>mean</th>\n",
       "      <td>23.178220</td>\n",
       "      <td>81.794533</td>\n",
       "      <td>103.001862</td>\n",
       "    </tr>\n",
       "    <tr>\n",
       "      <th>std</th>\n",
       "      <td>6.146575</td>\n",
       "      <td>7.258429</td>\n",
       "      <td>116.044056</td>\n",
       "    </tr>\n",
       "    <tr>\n",
       "      <th>min</th>\n",
       "      <td>8.900373</td>\n",
       "      <td>71.192400</td>\n",
       "      <td>0.300000</td>\n",
       "    </tr>\n",
       "    <tr>\n",
       "      <th>25%</th>\n",
       "      <td>19.820430</td>\n",
       "      <td>76.569993</td>\n",
       "      <td>6.700000</td>\n",
       "    </tr>\n",
       "    <tr>\n",
       "      <th>50%</th>\n",
       "      <td>23.835404</td>\n",
       "      <td>78.570026</td>\n",
       "      <td>64.400000</td>\n",
       "    </tr>\n",
       "    <tr>\n",
       "      <th>75%</th>\n",
       "      <td>27.333330</td>\n",
       "      <td>88.329947</td>\n",
       "      <td>173.900000</td>\n",
       "    </tr>\n",
       "    <tr>\n",
       "      <th>max</th>\n",
       "      <td>33.450000</td>\n",
       "      <td>94.216667</td>\n",
       "      <td>522.100000</td>\n",
       "    </tr>\n",
       "  </tbody>\n",
       "</table>\n",
       "</div>"
      ],
      "text/plain": [
       "           latitude     longitude         Usage\n",
       "count  16599.000000  16599.000000  16599.000000\n",
       "mean      23.178220     81.794533    103.001862\n",
       "std        6.146575      7.258429    116.044056\n",
       "min        8.900373     71.192400      0.300000\n",
       "25%       19.820430     76.569993      6.700000\n",
       "50%       23.835404     78.570026     64.400000\n",
       "75%       27.333330     88.329947    173.900000\n",
       "max       33.450000     94.216667    522.100000"
      ]
     },
     "execution_count": 19,
     "metadata": {},
     "output_type": "execute_result"
    }
   ],
   "source": [
    "consumption.describe()"
   ]
  },
  {
   "cell_type": "code",
   "execution_count": 20,
   "id": "685c1666",
   "metadata": {},
   "outputs": [
    {
     "data": {
      "text/plain": [
       "States       0\n",
       "Regions      0\n",
       "latitude     0\n",
       "longitude    0\n",
       "Usage        0\n",
       "dtype: int64"
      ]
     },
     "execution_count": 20,
     "metadata": {},
     "output_type": "execute_result"
    }
   ],
   "source": [
    "consumption.isnull().sum()"
   ]
  },
  {
   "cell_type": "code",
   "execution_count": 21,
   "id": "20faf6d1",
   "metadata": {},
   "outputs": [
    {
     "data": {
      "text/plain": [
       "Dates\n",
       "2019-02-01    119.9\n",
       "2019-02-01    130.3\n",
       "2019-02-01    234.1\n",
       "2019-02-01     85.8\n",
       "2019-02-01    313.9\n",
       "              ...  \n",
       "2020-05-12      2.5\n",
       "2020-05-12      5.8\n",
       "2020-05-12      1.6\n",
       "2020-05-12      2.1\n",
       "2020-05-12      3.3\n",
       "Name: Usage, Length: 16599, dtype: float64"
      ]
     },
     "execution_count": 21,
     "metadata": {},
     "output_type": "execute_result"
    }
   ],
   "source": [
    "consumption['Usage']"
   ]
  },
  {
   "cell_type": "code",
   "execution_count": 22,
   "id": "5c42ad71",
   "metadata": {},
   "outputs": [],
   "source": [
    "from scipy import stats\n",
    "mode= stats.mode(consumption['Usage'])\n"
   ]
  },
  {
   "cell_type": "code",
   "execution_count": 23,
   "id": "94dd2297",
   "metadata": {},
   "outputs": [
    {
     "name": "stdout",
     "output_type": "stream",
     "text": [
      "ModeResult(mode=array([2.2]), count=array([328]))\n"
     ]
    }
   ],
   "source": [
    "print(mode)"
   ]
  },
  {
   "cell_type": "code",
   "execution_count": 24,
   "id": "488d6f7b",
   "metadata": {},
   "outputs": [
    {
     "data": {
      "text/html": [
       "<div>\n",
       "<style scoped>\n",
       "    .dataframe tbody tr th:only-of-type {\n",
       "        vertical-align: middle;\n",
       "    }\n",
       "\n",
       "    .dataframe tbody tr th {\n",
       "        vertical-align: top;\n",
       "    }\n",
       "\n",
       "    .dataframe thead th {\n",
       "        text-align: right;\n",
       "    }\n",
       "</style>\n",
       "<table border=\"1\" class=\"dataframe\">\n",
       "  <thead>\n",
       "    <tr style=\"text-align: right;\">\n",
       "      <th></th>\n",
       "      <th>latitude</th>\n",
       "      <th>longitude</th>\n",
       "      <th>Usage</th>\n",
       "    </tr>\n",
       "  </thead>\n",
       "  <tbody>\n",
       "    <tr>\n",
       "      <th>latitude</th>\n",
       "      <td>1.000000</td>\n",
       "      <td>0.180809</td>\n",
       "      <td>-0.253823</td>\n",
       "    </tr>\n",
       "    <tr>\n",
       "      <th>longitude</th>\n",
       "      <td>0.180809</td>\n",
       "      <td>1.000000</td>\n",
       "      <td>-0.525028</td>\n",
       "    </tr>\n",
       "    <tr>\n",
       "      <th>Usage</th>\n",
       "      <td>-0.253823</td>\n",
       "      <td>-0.525028</td>\n",
       "      <td>1.000000</td>\n",
       "    </tr>\n",
       "  </tbody>\n",
       "</table>\n",
       "</div>"
      ],
      "text/plain": [
       "           latitude  longitude     Usage\n",
       "latitude   1.000000   0.180809 -0.253823\n",
       "longitude  0.180809   1.000000 -0.525028\n",
       "Usage     -0.253823  -0.525028  1.000000"
      ]
     },
     "execution_count": 24,
     "metadata": {},
     "output_type": "execute_result"
    }
   ],
   "source": [
    "consumption.corr()"
   ]
  },
  {
   "cell_type": "code",
   "execution_count": 25,
   "id": "8b04d2a2",
   "metadata": {},
   "outputs": [
    {
     "name": "stdout",
     "output_type": "stream",
     "text": [
      "<class 'pandas.core.frame.DataFrame'>\n",
      "DatetimeIndex: 16599 entries, 2019-02-01 to 2020-05-12\n",
      "Data columns (total 5 columns):\n",
      " #   Column     Non-Null Count  Dtype  \n",
      "---  ------     --------------  -----  \n",
      " 0   States     16599 non-null  object \n",
      " 1   Regions    16599 non-null  object \n",
      " 2   latitude   16599 non-null  float64\n",
      " 3   longitude  16599 non-null  float64\n",
      " 4   Usage      16599 non-null  float64\n",
      "dtypes: float64(3), object(2)\n",
      "memory usage: 778.1+ KB\n"
     ]
    }
   ],
   "source": [
    "consumption.info()"
   ]
  },
  {
   "cell_type": "code",
   "execution_count": 27,
   "id": "75be13e3",
   "metadata": {},
   "outputs": [],
   "source": [
    "df = pd.read_csv('dataset_tk.csv')"
   ]
  },
  {
   "cell_type": "code",
   "execution_count": 32,
   "id": "f34c6651",
   "metadata": {},
   "outputs": [
    {
     "name": "stdout",
     "output_type": "stream",
     "text": [
      "<class 'pandas.core.frame.DataFrame'>\n",
      "RangeIndex: 503 entries, 0 to 502\n",
      "Data columns (total 34 columns):\n",
      " #   Column             Non-Null Count  Dtype  \n",
      "---  ------             --------------  -----  \n",
      " 0   Unnamed: 0         503 non-null    object \n",
      " 1   Punjab             503 non-null    float64\n",
      " 2   Haryana            503 non-null    float64\n",
      " 3   Rajasthan          503 non-null    float64\n",
      " 4   Delhi              503 non-null    float64\n",
      " 5   UP                 503 non-null    float64\n",
      " 6   Uttarakhand        503 non-null    float64\n",
      " 7   HP                 503 non-null    float64\n",
      " 8   J&K                503 non-null    float64\n",
      " 9   Chandigarh         503 non-null    float64\n",
      " 10  Chhattisgarh       503 non-null    float64\n",
      " 11  Gujarat            503 non-null    float64\n",
      " 12  MP                 503 non-null    float64\n",
      " 13  Maharashtra        503 non-null    float64\n",
      " 14  Goa                503 non-null    float64\n",
      " 15  DNH                503 non-null    float64\n",
      " 16  Andhra Pradesh     503 non-null    float64\n",
      " 17  Telangana          503 non-null    float64\n",
      " 18  Karnataka          503 non-null    float64\n",
      " 19  Kerala             503 non-null    float64\n",
      " 20  Tamil Nadu         503 non-null    float64\n",
      " 21  Pondy              503 non-null    float64\n",
      " 22  Bihar              503 non-null    float64\n",
      " 23  Jharkhand          503 non-null    float64\n",
      " 24  Odisha             503 non-null    float64\n",
      " 25  West Bengal        503 non-null    float64\n",
      " 26  Sikkim             503 non-null    float64\n",
      " 27  Arunachal Pradesh  503 non-null    float64\n",
      " 28  Assam              503 non-null    float64\n",
      " 29  Manipur            503 non-null    float64\n",
      " 30  Meghalaya          503 non-null    float64\n",
      " 31  Mizoram            503 non-null    float64\n",
      " 32  Nagaland           503 non-null    float64\n",
      " 33  Tripura            503 non-null    float64\n",
      "dtypes: float64(33), object(1)\n",
      "memory usage: 133.7+ KB\n"
     ]
    }
   ],
   "source": [
    "df.info()"
   ]
  },
  {
   "cell_type": "code",
   "execution_count": 31,
   "id": "2eb0a888",
   "metadata": {},
   "outputs": [
    {
     "ename": "AttributeError",
     "evalue": "'DataFrame' object has no attribute 'Date'",
     "output_type": "error",
     "traceback": [
      "\u001b[1;31m---------------------------------------------------------------------------\u001b[0m",
      "\u001b[1;31mAttributeError\u001b[0m                            Traceback (most recent call last)",
      "Input \u001b[1;32mIn [31]\u001b[0m, in \u001b[0;36m<cell line: 1>\u001b[1;34m()\u001b[0m\n\u001b[1;32m----> 1\u001b[0m df[\u001b[38;5;124m'\u001b[39m\u001b[38;5;124mDate\u001b[39m\u001b[38;5;124m'\u001b[39m] \u001b[38;5;241m=\u001b[39m pd\u001b[38;5;241m.\u001b[39mto_datetime(\u001b[43mdf\u001b[49m\u001b[38;5;241;43m.\u001b[39;49m\u001b[43mDate\u001b[49m, dayfirst\u001b[38;5;241m=\u001b[39m\u001b[38;5;28;01mTrue\u001b[39;00m)\n",
      "File \u001b[1;32m~\\anaconda3\\lib\\site-packages\\pandas\\core\\generic.py:5575\u001b[0m, in \u001b[0;36mNDFrame.__getattr__\u001b[1;34m(self, name)\u001b[0m\n\u001b[0;32m   5568\u001b[0m \u001b[38;5;28;01mif\u001b[39;00m (\n\u001b[0;32m   5569\u001b[0m     name \u001b[38;5;129;01mnot\u001b[39;00m \u001b[38;5;129;01min\u001b[39;00m \u001b[38;5;28mself\u001b[39m\u001b[38;5;241m.\u001b[39m_internal_names_set\n\u001b[0;32m   5570\u001b[0m     \u001b[38;5;129;01mand\u001b[39;00m name \u001b[38;5;129;01mnot\u001b[39;00m \u001b[38;5;129;01min\u001b[39;00m \u001b[38;5;28mself\u001b[39m\u001b[38;5;241m.\u001b[39m_metadata\n\u001b[0;32m   5571\u001b[0m     \u001b[38;5;129;01mand\u001b[39;00m name \u001b[38;5;129;01mnot\u001b[39;00m \u001b[38;5;129;01min\u001b[39;00m \u001b[38;5;28mself\u001b[39m\u001b[38;5;241m.\u001b[39m_accessors\n\u001b[0;32m   5572\u001b[0m     \u001b[38;5;129;01mand\u001b[39;00m \u001b[38;5;28mself\u001b[39m\u001b[38;5;241m.\u001b[39m_info_axis\u001b[38;5;241m.\u001b[39m_can_hold_identifiers_and_holds_name(name)\n\u001b[0;32m   5573\u001b[0m ):\n\u001b[0;32m   5574\u001b[0m     \u001b[38;5;28;01mreturn\u001b[39;00m \u001b[38;5;28mself\u001b[39m[name]\n\u001b[1;32m-> 5575\u001b[0m \u001b[38;5;28;01mreturn\u001b[39;00m \u001b[38;5;28;43mobject\u001b[39;49m\u001b[38;5;241;43m.\u001b[39;49m\u001b[38;5;21;43m__getattribute__\u001b[39;49m\u001b[43m(\u001b[49m\u001b[38;5;28;43mself\u001b[39;49m\u001b[43m,\u001b[49m\u001b[43m \u001b[49m\u001b[43mname\u001b[49m\u001b[43m)\u001b[49m\n",
      "\u001b[1;31mAttributeError\u001b[0m: 'DataFrame' object has no attribute 'Date'"
     ]
    }
   ],
   "source": [
    "df['Date'] = pd.to_datetime(df.Date, dayfirst=True)"
   ]
  },
  {
   "cell_type": "code",
   "execution_count": null,
   "id": "53c17cfb",
   "metadata": {},
   "outputs": [],
   "source": []
  }
 ],
 "metadata": {
  "kernelspec": {
   "display_name": "Python 3 (ipykernel)",
   "language": "python",
   "name": "python3"
  },
  "language_info": {
   "codemirror_mode": {
    "name": "ipython",
    "version": 3
   },
   "file_extension": ".py",
   "mimetype": "text/x-python",
   "name": "python",
   "nbconvert_exporter": "python",
   "pygments_lexer": "ipython3",
   "version": "3.9.12"
  }
 },
 "nbformat": 4,
 "nbformat_minor": 5
}
